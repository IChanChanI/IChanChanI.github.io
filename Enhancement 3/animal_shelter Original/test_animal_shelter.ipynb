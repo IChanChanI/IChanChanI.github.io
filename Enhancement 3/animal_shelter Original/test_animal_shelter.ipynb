{
 "cells": [
  {
   "cell_type": "code",
   "execution_count": 3,
   "id": "fc64a5b5",
   "metadata": {},
   "outputs": [
    {
     "name": "stdout",
     "output_type": "stream",
     "text": [
      "Connection Successful\n",
      "Create: True\n",
      "Read:\n",
      "Update: 1\n",
      "Updated:\n",
      "Delete: 1\n",
      "Updated:\n"
     ]
    }
   ],
   "source": [
    "from animal_shelter import AnimalShelter\n",
    "from pprint import pprint\n",
    "CRUD = AnimalShelter(\"aacuser\",\"SNHU1234\")\n",
    "\n",
    "#Testing Creat Function in CRUD\n",
    "new_animal = {\n",
    "    \"animal_type\": \"Cat\",\n",
    "    \"breed\" : \"Domestic Longhair\",\n",
    "    \"age\": \"7 years\",\n",
    "    \"color\": \"Black\",\n",
    "    \"name\": \"Purrl\"\n",
    "    }\n",
    "created = CRUD.create(new_animal)\n",
    "print(\"Create:\", created)\n",
    "\n",
    "#Testing Read Function in CRUD\n",
    "\n",
    "search_query = {\"animal_type\": \"Cat\"}\n",
    "CRUD.read_result = CRUD.read(search_query)\n",
    "print(\"Read:\")\n",
    "for animal in read_result:\n",
    "    pprint(animal)\n",
    "    print(\"\")\n",
    "#Testing Update Function in CRUD\n",
    "\n",
    "update_query = {\"name\": \"Purrl\"}\n",
    "new_data = {\"color\":\"Black and white\"}\n",
    "updated_count = CRUD.update(update_query, new_data)\n",
    "print(\"Update:\", updated_count)\n",
    "\n",
    "#Make sure the update function works\n",
    "\n",
    "CRUD.read_result = CRUD.read(update_query)\n",
    "print(\"Updated:\")\n",
    "for animal in read_result:\n",
    "    pprint(animal)\n",
    "    print(\"\")\n",
    "    \n",
    "#Testing Delete Function in CRUD\n",
    "delete_query = {\"name\": \"Purrl\"}\n",
    "deleted_count = CRUD.delete(delete_query)\n",
    "print(\"Delete:\", deleted_count)\n",
    "\n",
    "#Testing delete function\n",
    "CRUD.read_result = CRUD.read(delete_query)\n",
    "print(\"Updated:\")\n",
    "for animal in read_result:\n",
    "    pprint(animal)\n",
    "    print(\"\")"
   ]
  },
  {
   "cell_type": "code",
   "execution_count": null,
   "id": "9ff690c7",
   "metadata": {},
   "outputs": [],
   "source": []
  },
  {
   "cell_type": "code",
   "execution_count": null,
   "id": "d5cacc5b",
   "metadata": {},
   "outputs": [],
   "source": []
  }
 ],
 "metadata": {
  "kernelspec": {
   "display_name": "Python 3 (ipykernel)",
   "language": "python",
   "name": "python3"
  },
  "language_info": {
   "codemirror_mode": {
    "name": "ipython",
    "version": 3
   },
   "file_extension": ".py",
   "mimetype": "text/x-python",
   "name": "python",
   "nbconvert_exporter": "python",
   "pygments_lexer": "ipython3",
   "version": "3.9.12"
  }
 },
 "nbformat": 4,
 "nbformat_minor": 5
}
